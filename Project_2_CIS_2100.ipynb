{
  "nbformat": 4,
  "nbformat_minor": 0,
  "metadata": {
    "colab": {
      "provenance": [],
      "authorship_tag": "ABX9TyPgAVb+4BTO0o+wxpkWTvqx",
      "include_colab_link": true
    },
    "kernelspec": {
      "name": "python3",
      "display_name": "Python 3"
    },
    "language_info": {
      "name": "python"
    }
  },
  "cells": [
    {
      "cell_type": "markdown",
      "metadata": {
        "id": "view-in-github",
        "colab_type": "text"
      },
      "source": [
        "<a href=\"https://colab.research.google.com/github/avalosjared/Project-3/blob/main/Project_2_CIS_2100.ipynb\" target=\"_parent\"><img src=\"https://colab.research.google.com/assets/colab-badge.svg\" alt=\"Open In Colab\"/></a>"
      ]
    },
    {
      "cell_type": "code",
      "source": [
        "# prompt: using the soda csv file create a dataframe using pandas\n",
        "\n",
        "import pandas as pd\n",
        "\n",
        "# Assuming 'soda.csv' is in your current working directory\n",
        "df = pd.read_csv('soda_customer_purchases.csv')\n",
        "\n",
        "# Print the first few rows of the DataFrame to verify\n",
        "print(df.head())\n"
      ],
      "metadata": {
        "colab": {
          "base_uri": "https://localhost:8080/"
        },
        "id": "3RhJFyzybc4B",
        "outputId": "4fec224f-1388-4ad2-9b9a-28b00a8fe2c7"
      },
      "execution_count": null,
      "outputs": [
        {
          "output_type": "stream",
          "name": "stdout",
          "text": [
            "   Store ID  Order ID  Customer ID Customer Name                Items  \\\n",
            "0       585         1         2497         James   Coke, Mountain Dew   \n",
            "1       585         2         1974      Isabella                Fanta   \n",
            "2       585         3         1085     Charlotte  Mountain Dew, Fanta   \n",
            "3       585         4          763          John               Sprite   \n",
            "4       585         5         2958        Amelia         Mountain Dew   \n",
            "\n",
            "         Prices Total Price                 Date  \n",
            "0  $1.50, $1.30       $2.80  2024-01-02 13:41:07  \n",
            "1         $1.20       $1.20  2023-09-05 21:36:35  \n",
            "2  $1.30, $1.20       $2.50  2023-01-28 11:08:09  \n",
            "3         $1.25       $1.25  2023-12-14 23:12:38  \n",
            "4         $1.30       $1.30  2024-08-21 20:23:22  \n"
          ]
        }
      ]
    },
    {
      "cell_type": "code",
      "source": [
        "# prompt: using the Items list what is the most commonly bought Items\n",
        "\n",
        "# Assuming 'soda.csv' is in your current working directory\n",
        "# and the dataframe is already loaded as 'df'\n",
        "\n",
        "# Group by 'Items' and count occurrences\n",
        "item_counts = df.groupby('Items')['Items'].count()\n",
        "\n",
        "# Find the most frequent item\n",
        "most_common_item = item_counts.idxmax()\n",
        "\n",
        "# Print the most common item and its count\n",
        "print(f\"The most commonly bought item is: {most_common_item}\")\n",
        "print(f\"Count: {item_counts.max()}\")"
      ],
      "metadata": {
        "colab": {
          "base_uri": "https://localhost:8080/"
        },
        "id": "oR7JLsSIcGch",
        "outputId": "abce66d3-d06c-4dd6-d6d6-60c93442358e"
      },
      "execution_count": null,
      "outputs": [
        {
          "output_type": "stream",
          "name": "stdout",
          "text": [
            "The most commonly bought item is: Coke\n",
            "Count: 2125\n"
          ]
        }
      ]
    },
    {
      "cell_type": "code",
      "source": [
        "# prompt: how frequent was that customers were large buyers using items\n",
        "\n",
        "import pandas as pd\n",
        "\n",
        "# Assuming 'soda.csv' is in your current working directory\n",
        "df = pd.read_csv('soda_customer_purchases.csv')\n",
        "\n",
        "# Group by 'Customer' and 'Items' to count purchases per customer per item\n",
        "customer_item_counts = df.groupby(['Customer ID', 'Items']).size().reset_index(name='PurchaseCount')\n",
        "\n",
        "# Define a threshold for \"large buyers\" (e.g., purchased an item more than 3 times)\n",
        "large_buyer_threshold = 3\n",
        "\n",
        "# Filter for customers who are large buyers of any item\n",
        "large_buyers = customer_item_counts[customer_item_counts['PurchaseCount'] > large_buyer_threshold]\n",
        "\n",
        "# Group by 'Items' and count the number of large buyers for each item\n",
        "large_buyer_item_counts = large_buyers.groupby('Items')['Customer ID'].count()\n",
        "\n",
        "\n",
        "# Print the frequency of large buyers for each item\n",
        "print(\"Frequency of large buyers for each item:\")\n",
        "print(large_buyer_item_counts)\n",
        "\n",
        "# Find the item with the most large buyers\n",
        "most_frequent_large_buyer_item = large_buyer_item_counts.idxmax()\n",
        "print(f\"\\nThe item with the most large buyers is: {most_frequent_large_buyer_item}\")\n",
        "print(f\"Number of large buyers for this item: {large_buyer_item_counts.max()}\")"
      ],
      "metadata": {
        "colab": {
          "base_uri": "https://localhost:8080/"
        },
        "id": "kcQHxg3lHMCH",
        "outputId": "b67365e1-9189-4632-8f1c-f5bca52d0906"
      },
      "execution_count": null,
      "outputs": [
        {
          "output_type": "stream",
          "name": "stdout",
          "text": [
            "Frequency of large buyers for each item:\n",
            "Items\n",
            "Coke                           100\n",
            "Coke, Fanta                     72\n",
            "Coke, Fanta, Mountain Dew        6\n",
            "Coke, Fanta, Pepsi              14\n",
            "Coke, Fanta, Sprite              8\n",
            "                              ... \n",
            "Sprite, Mountain Dew, Pepsi     10\n",
            "Sprite, Pepsi                   73\n",
            "Sprite, Pepsi, Coke             14\n",
            "Sprite, Pepsi, Fanta             7\n",
            "Sprite, Pepsi, Mountain Dew     17\n",
            "Name: Customer ID, Length: 85, dtype: int64\n",
            "\n",
            "The item with the most large buyers is: Coke\n",
            "Number of large buyers for this item: 100\n"
          ]
        }
      ]
    },
    {
      "cell_type": "code",
      "source": [
        "# prompt: what are the stores with the largest buying customers using Customer ID, Items, and Store ID\n",
        "\n",
        "import pandas as pd\n",
        "\n",
        "# Assuming 'soda.csv' is in your current working directory\n",
        "df = pd.read_csv('soda_customer_purchases.csv')\n",
        "\n",
        "# Group by 'Customer ID' and 'Store ID', then sum the 'Items' purchased\n",
        "customer_spending = df.groupby(['Customer ID', 'Store ID'])['Items'].sum()\n",
        "\n",
        "# Find the customer with the largest sum of items for each store\n",
        "largest_buyers = customer_spending.groupby('Store ID').idxmax()\n",
        "\n",
        "# Print the result\n",
        "print(\"Stores with their largest buying customers:\")\n",
        "largest_buyers"
      ],
      "metadata": {
        "colab": {
          "base_uri": "https://localhost:8080/",
          "height": 507
        },
        "id": "WSwoOwjVdITt",
        "outputId": "a04aed6c-5541-41e3-c862-92bb84b5d906"
      },
      "execution_count": null,
      "outputs": [
        {
          "output_type": "stream",
          "name": "stdout",
          "text": [
            "Stores with their largest buying customers:\n"
          ]
        },
        {
          "output_type": "execute_result",
          "data": {
            "text/plain": [
              "Store ID\n",
              "1          (2401, 1)\n",
              "2           (763, 2)\n",
              "7          (1085, 7)\n",
              "9           (657, 9)\n",
              "11         (570, 11)\n",
              "            ...     \n",
              "2493     (782, 2493)\n",
              "2495    (2097, 2495)\n",
              "2496    (2390, 2496)\n",
              "2497    (2460, 2497)\n",
              "2498    (2300, 2498)\n",
              "Name: Items, Length: 1601, dtype: object"
            ],
            "text/html": [
              "<div>\n",
              "<style scoped>\n",
              "    .dataframe tbody tr th:only-of-type {\n",
              "        vertical-align: middle;\n",
              "    }\n",
              "\n",
              "    .dataframe tbody tr th {\n",
              "        vertical-align: top;\n",
              "    }\n",
              "\n",
              "    .dataframe thead th {\n",
              "        text-align: right;\n",
              "    }\n",
              "</style>\n",
              "<table border=\"1\" class=\"dataframe\">\n",
              "  <thead>\n",
              "    <tr style=\"text-align: right;\">\n",
              "      <th></th>\n",
              "      <th>Items</th>\n",
              "    </tr>\n",
              "    <tr>\n",
              "      <th>Store ID</th>\n",
              "      <th></th>\n",
              "    </tr>\n",
              "  </thead>\n",
              "  <tbody>\n",
              "    <tr>\n",
              "      <th>1</th>\n",
              "      <td>(2401, 1)</td>\n",
              "    </tr>\n",
              "    <tr>\n",
              "      <th>2</th>\n",
              "      <td>(763, 2)</td>\n",
              "    </tr>\n",
              "    <tr>\n",
              "      <th>7</th>\n",
              "      <td>(1085, 7)</td>\n",
              "    </tr>\n",
              "    <tr>\n",
              "      <th>9</th>\n",
              "      <td>(657, 9)</td>\n",
              "    </tr>\n",
              "    <tr>\n",
              "      <th>11</th>\n",
              "      <td>(570, 11)</td>\n",
              "    </tr>\n",
              "    <tr>\n",
              "      <th>...</th>\n",
              "      <td>...</td>\n",
              "    </tr>\n",
              "    <tr>\n",
              "      <th>2493</th>\n",
              "      <td>(782, 2493)</td>\n",
              "    </tr>\n",
              "    <tr>\n",
              "      <th>2495</th>\n",
              "      <td>(2097, 2495)</td>\n",
              "    </tr>\n",
              "    <tr>\n",
              "      <th>2496</th>\n",
              "      <td>(2390, 2496)</td>\n",
              "    </tr>\n",
              "    <tr>\n",
              "      <th>2497</th>\n",
              "      <td>(2460, 2497)</td>\n",
              "    </tr>\n",
              "    <tr>\n",
              "      <th>2498</th>\n",
              "      <td>(2300, 2498)</td>\n",
              "    </tr>\n",
              "  </tbody>\n",
              "</table>\n",
              "<p>1601 rows × 1 columns</p>\n",
              "</div><br><label><b>dtype:</b> object</label>"
            ]
          },
          "metadata": {},
          "execution_count": 60
        }
      ]
    },
    {
      "cell_type": "code",
      "source": [
        "# prompt: show a visualization using the dataframe showing the top ranks of large the largest buying customers by frequency\n",
        "\n",
        "import pandas as pd\n",
        "import matplotlib.pyplot as plt\n",
        "\n",
        "# Assuming 'soda.csv' is in your current working directory\n",
        "df = pd.read_csv('soda_customer_purchases.csv')\n",
        "\n",
        "# Group by 'Customer ID' and count purchases\n",
        "customer_purchase_counts = df.groupby('Customer ID')['Customer ID'].count()\n",
        "\n",
        "# Sort by purchase counts in descending order\n",
        "top_customers = customer_purchase_counts.sort_values(ascending=False)\n",
        "\n",
        "# Get the top N customers (e.g., top 10)\n",
        "top_n = 10  # Adjust as needed\n",
        "top_customers = top_customers.head(top_n)\n",
        "\n",
        "# Create the bar plot\n",
        "plt.figure(figsize=(10, 6))\n",
        "plt.bar(top_customers.index, top_customers.values)\n",
        "plt.xlabel(\"Customer ID\")\n",
        "plt.ylabel(\"Number of Purchases\")\n",
        "plt.title(f\"Top {top_n} Customers by Purchase Frequency\")\n",
        "plt.xticks(rotation=45, ha='right')  # Rotate x-axis labels for readability\n",
        "plt.tight_layout()  # Adjust layout to prevent labels from overlapping\n",
        "plt.show()"
      ],
      "metadata": {
        "id": "UUpW1AFwhbSp",
        "colab": {
          "base_uri": "https://localhost:8080/",
          "height": 607
        },
        "outputId": "edfe2d26-74fe-4eeb-84d3-b8b7aa028b72"
      },
      "execution_count": null,
      "outputs": [
        {
          "output_type": "display_data",
          "data": {
            "text/plain": [
              "<Figure size 1000x600 with 1 Axes>"
            ],
            "image/png": "[encoded data removed]"
          },
          "metadata": {}
        }
      ]
    },
    {
      "cell_type": "code",
      "source": [
        "# prompt: what is the top-n list of products which were common to customers in this demographic\n",
        "\n",
        "import pandas as pd\n",
        "\n",
        "# Assuming 'soda.csv' is in your current working directory\n",
        "df = pd.read_csv('soda_customer_purchases.csv')\n",
        "\n",
        "# Group by customer and get a list of items purchased\n",
        "customer_items = df.groupby('Customer ID')['Items'].apply(list)\n",
        "\n",
        "# Find common items for all customers\n",
        "from collections import Counter\n",
        "\n",
        "def common_items(items):\n",
        "    counts = Counter()\n",
        "    for customer_items_list in items:\n",
        "        for item in customer_items_list:\n",
        "            counts[item] += 1\n",
        "    return counts.most_common()\n",
        "\n",
        "# Get the top N most frequent items across all customers in this demographic\n",
        "top_n = 10 # set the number of items to return\n",
        "\n",
        "# Calculate and print the top N most frequent products bought by customers in the dataset\n",
        "top_products = common_items(customer_items)[:top_n]\n",
        "\n",
        "print(f\"Top {top_n} most frequent products purchased by customers:\")\n",
        "for product, count in top_products:\n",
        "    print(f\"{product}: {count}\")"
      ],
      "metadata": {
        "colab": {
          "base_uri": "https://localhost:8080/"
        },
        "id": "RQUQzNw6GCSZ",
        "outputId": "dad46868-53eb-427c-9f43-d5dbb27ee672"
      },
      "execution_count": null,
      "outputs": [
        {
          "output_type": "stream",
          "name": "stdout",
          "text": [
            "Top 10 most frequent products purchased by customers:\n",
            "Coke: 2125\n",
            "Mountain Dew: 2121\n",
            "Fanta: 2057\n",
            "Pepsi: 2053\n",
            "Sprite: 1977\n",
            "Sprite, Coke: 568\n",
            "Sprite, Pepsi: 546\n",
            "Mountain Dew, Sprite: 528\n",
            "Pepsi, Coke: 527\n",
            "Mountain Dew, Fanta: 526\n"
          ]
        }
      ]
    },
    {
      "cell_type": "code",
      "source": [
        "# prompt: display a visualization for the above categorical makeup using a pie chart more condensed\n",
        "\n",
        "import matplotlib.pyplot as plt\n",
        "from collections import Counter\n",
        "\n",
        "# Assuming 'soda.csv' is in your current working directory and item_counts is defined as in your previous code\n",
        "# ... (your existing code to load data and calculate item_counts)\n",
        "\n",
        "# Create the pie chart\n",
        "labels = [item for item, count in item_counts.most_common()]\n",
        "sizes = [count for item, count in item_counts.most_common()]\n",
        "\n",
        "# Condense the pie chart by only showing the top N items and grouping the rest as \"Others\"\n",
        "top_n = 5 # Number of top items to show\n",
        "if len(labels) > top_n:\n",
        "    other_size = sum(sizes[top_n:])\n",
        "    sizes = sizes[:top_n] + [other_size]\n",
        "    labels = labels[:top_n] + ['Others']\n",
        "\n",
        "plt.figure(figsize=(8, 8))\n",
        "plt.pie(sizes, labels=labels, autopct='%1.1f%%', startangle=90, textprops={'fontsize': 8}) # Reduced fontsize for labels\n",
        "plt.title('Categorical Makeup of Customer Baskets (Top {} Items)'.format(top_n))\n",
        "plt.axis('equal')\n",
        "plt.show()"
      ],
      "metadata": {
        "colab": {
          "base_uri": "https://localhost:8080/",
          "height": 675
        },
        "id": "tqEA1E-AG5zh",
        "outputId": "e711733f-d022-4562-dec8-ad75a33ce0d3"
      },
      "execution_count": null,
      "outputs": [
        {
          "output_type": "display_data",
          "data": {
            "text/plain": [
              "<Figure size 800x800 with 1 Axes>"
            ],
            "image/png": "[encoded data removed]"
          },
          "metadata": {}
        }
      ]
    },
    {
      "cell_type": "code",
      "source": [
        "# prompt: what are the top 5 largest buyers overall\n",
        "\n",
        "import pandas as pd\n",
        "\n",
        "# Assuming 'soda.csv' is in your current working directory\n",
        "df = pd.read_csv('soda_customer_purchases.csv')\n",
        "\n",
        "# Group by 'Customer ID' and count purchases\n",
        "customer_purchase_counts = df.groupby('Customer ID')['Customer ID'].count()\n",
        "\n",
        "# Sort by purchase counts in descending order and get the top 5\n",
        "top_5_customers = customer_purchase_counts.sort_values(ascending=False).head(5)\n",
        "\n",
        "print(\"Top 5 largest buyers overall:\")\n",
        "top_5_customers"
      ],
      "metadata": {
        "colab": {
          "base_uri": "https://localhost:8080/",
          "height": 290
        },
        "id": "HjR-UU6fdNHB",
        "outputId": "275f7608-a0b6-487d-94ca-06cf21165a03"
      },
      "execution_count": null,
      "outputs": [
        {
          "output_type": "stream",
          "name": "stdout",
          "text": [
            "Top 5 largest buyers overall:\n"
          ]
        },
        {
          "output_type": "execute_result",
          "data": {
            "text/plain": [
              "Customer ID\n",
              "1604    348\n",
              "2969    343\n",
              "66      342\n",
              "327     342\n",
              "1454    341\n",
              "Name: Customer ID, dtype: int64"
            ],
            "text/html": [
              "<div>\n",
              "<style scoped>\n",
              "    .dataframe tbody tr th:only-of-type {\n",
              "        vertical-align: middle;\n",
              "    }\n",
              "\n",
              "    .dataframe tbody tr th {\n",
              "        vertical-align: top;\n",
              "    }\n",
              "\n",
              "    .dataframe thead th {\n",
              "        text-align: right;\n",
              "    }\n",
              "</style>\n",
              "<table border=\"1\" class=\"dataframe\">\n",
              "  <thead>\n",
              "    <tr style=\"text-align: right;\">\n",
              "      <th></th>\n",
              "      <th>Customer ID</th>\n",
              "    </tr>\n",
              "    <tr>\n",
              "      <th>Customer ID</th>\n",
              "      <th></th>\n",
              "    </tr>\n",
              "  </thead>\n",
              "  <tbody>\n",
              "    <tr>\n",
              "      <th>1604</th>\n",
              "      <td>348</td>\n",
              "    </tr>\n",
              "    <tr>\n",
              "      <th>2969</th>\n",
              "      <td>343</td>\n",
              "    </tr>\n",
              "    <tr>\n",
              "      <th>66</th>\n",
              "      <td>342</td>\n",
              "    </tr>\n",
              "    <tr>\n",
              "      <th>327</th>\n",
              "      <td>342</td>\n",
              "    </tr>\n",
              "    <tr>\n",
              "      <th>1454</th>\n",
              "      <td>341</td>\n",
              "    </tr>\n",
              "  </tbody>\n",
              "</table>\n",
              "</div><br><label><b>dtype:</b> int64</label>"
            ]
          },
          "metadata": {},
          "execution_count": 2
        }
      ]
    }
  ]
}